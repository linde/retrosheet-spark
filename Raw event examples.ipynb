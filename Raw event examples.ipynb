{
 "cells": [
  {
   "cell_type": "markdown",
   "metadata": {},
   "source": [
    "### Raw event example analysis\n",
    "\n",
    "Be sure to run the first three sections in the  [retrosheet-spark](retrosheet-spark.ipynb) notebook through the sectiatuon that loads \"EVENT FILES\"."
   ]
  },
  {
   "cell_type": "code",
   "execution_count": null,
   "metadata": {},
   "outputs": [],
   "source": [
    "## this is an example which looks at game duration info records\n",
    "\n",
    "def filterRecsWithDuration(rec):\n",
    "    try:\n",
    "        event = rec[4]\n",
    "        return event[0] == 'info' and event[1] == 'timeofgame' and int(event[2])>0\n",
    "    except:\n",
    "        return False\n",
    "\n",
    "def makeLocationDurationRow(rec):\n",
    "    \n",
    "    gameDate=rec[3]\n",
    "    home=rec[2]\n",
    "    duration=int(rec[4][2])\n",
    "    return Row(gameDate=gameDate,home=home,duration=duration)    \n",
    "    \n",
    "datesTeamsDurationDF = combinedFlattenedEvents.filter(filterRecsWithDuration).map(makeLocationDurationRow).toDF()\n",
    "yearsTeamsDurationDF = datesTeamsDurationDF.withColumn(\"gameYear\", year(\"gameDate\"))\n",
    "yearsTeamsDurationDF.show()\n",
    "\n",
    "yearsTeamsDurationDF.write.format(\"parquet\").save(YEAR_TEAMS_OUTPUT_PATH)\n",
    "print(\"done!\")"
   ]
  },
  {
   "cell_type": "code",
   "execution_count": null,
   "metadata": {},
   "outputs": [],
   "source": [
    "from plotly.offline import download_plotlyjs, init_notebook_mode, plot, iplot\n",
    "import plotly.graph_objs as go\n",
    "\n",
    "init_notebook_mode(connected=True)\n",
    "\n",
    "df = spark.read.load(YEAR_TEAMS_OUTPUT_PATH)\n",
    "homeGameYearDF = df.groupBy(\"gameYear\", \"home\").agg(avg(\"duration\").alias(\"avgDuration\"))\n",
    "\n",
    "data=[]\n",
    "\n",
    "for row in homeGameYearDF.select(\"home\").distinct().collect():\n",
    "    \n",
    "    homeDf = homeGameYearDF.filter(homeGameYearDF.home==row.home).orderBy(\"gameYear\").toPandas()\n",
    "\n",
    "    data.append(\n",
    "        go.Scatter(x=homeDf.gameYear, y=homeDf.avgDuration, name=row.home)\n",
    "    )\n",
    "    \n",
    "plotly.offline.iplot(data)\n",
    "\n"
   ]
  }
 ],
 "metadata": {
  "kernelspec": {
   "display_name": "Python 3",
   "language": "python",
   "name": "python3"
  },
  "language_info": {
   "codemirror_mode": {
    "name": "ipython",
    "version": 3
   },
   "file_extension": ".py",
   "mimetype": "text/x-python",
   "name": "python",
   "nbconvert_exporter": "python",
   "pygments_lexer": "ipython3",
   "version": "3.6.5"
  }
 },
 "nbformat": 4,
 "nbformat_minor": 2
}
