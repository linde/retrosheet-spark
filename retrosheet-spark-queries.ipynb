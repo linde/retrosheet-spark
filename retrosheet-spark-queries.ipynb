{
 "cells": [
  {
   "cell_type": "code",
   "execution_count": null,
   "metadata": {},
   "outputs": [],
   "source": [
    "from glob import glob\n",
    "from os.path import basename\n",
    "\n",
    "logger = sc._jvm.org.apache.log4j\n",
    "logger.LogManager.getLogger(\"org\"). setLevel( logger.Level.ERROR )\n",
    "print(\"done\")"
   ]
  },
  {
   "cell_type": "code",
   "execution_count": null,
   "metadata": {},
   "outputs": [],
   "source": [
    "# this needs to be in sync with file://retrosheet-spark.ipynb\n",
    "\n",
    "DIST_PARQUET_DIR = \"dist/parquet/*\"\n",
    "\n",
    "\n",
    "for recTypePath in glob(DIST_PARQUET_DIR):\n",
    "    \n",
    "    recType = basename(recTypePath)\n",
    "    df = sqlContext.read.parquet(recTypePath)\n",
    "    df.registerTempTable(recType)\n",
    "    print(recType)\n",
    "    sqlContext.table(recType).printSchema()\n",
    "\n"
   ]
  },
  {
   "cell_type": "code",
   "execution_count": null,
   "metadata": {},
   "outputs": [],
   "source": [
    "sql = \"\"\"\n",
    "\n",
    "    select player_id, firstName, lastName, \n",
    "            min(year) as minYear, \n",
    "            max(year) as maxYear, \n",
    "            count(distinct team) as numTeams\n",
    "    from roster\n",
    "    group by player_id, firstName, lastName\n",
    "    order by numTeams desc\n",
    "    \n",
    "\"\"\"\n",
    "\n",
    "\n",
    "sqlContext.sql(sql).show()\n"
   ]
  },
  {
   "cell_type": "code",
   "execution_count": null,
   "metadata": {},
   "outputs": [],
   "source": [
    "\n",
    "sql = \"\"\"\n",
    "\n",
    "select p.*\n",
    "from play p join (\n",
    "        select s.player_id, s.game_id \n",
    "        from play s \n",
    "            join play d on (\n",
    "                s.player_id = d.player_id \n",
    "                and s.game_id = d.game_id\n",
    "                and s.description like \"S%\"\n",
    "                and d.description like \"D%\"\n",
    "            )\n",
    "\n",
    "            join play t on (\n",
    "                s.player_id = t.player_id \n",
    "                and s.game_id = t.game_id\n",
    "                and t.description like \"T%\"\n",
    "            )\n",
    "    ) sdt on (\n",
    "        p.player_id = sdt.player_id\n",
    "        and p.game_id = sdt.game_id\n",
    "    )\n",
    "order by p.game_id desc, seq asc\n",
    "\n",
    "\"\"\"\n",
    "\n",
    "sqlContext.sql(sql).show(100)\n"
   ]
  },
  {
   "cell_type": "code",
   "execution_count": null,
   "metadata": {},
   "outputs": [],
   "source": [
    "\n",
    "sql = \"\"\"\n",
    "\n",
    "select min(gameDate), max(gameDate)\n",
    "from play \n",
    "\n",
    "\"\"\"\n",
    "\n",
    "sqlContext.sql(sql).show()\n"
   ]
  }
 ],
 "metadata": {
  "kernelspec": {
   "display_name": "Python 3",
   "language": "python",
   "name": "python3"
  },
  "language_info": {
   "codemirror_mode": {
    "name": "ipython",
    "version": 3
   },
   "file_extension": ".py",
   "mimetype": "text/x-python",
   "name": "python",
   "nbconvert_exporter": "python",
   "pygments_lexer": "ipython3",
   "version": "3.6.5"
  }
 },
 "nbformat": 4,
 "nbformat_minor": 1
}
